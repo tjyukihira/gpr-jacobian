{
 "cells": [
  {
   "cell_type": "markdown",
   "metadata": {},
   "source": [
    "## 4 species plankton data (Beninca et.al. (2009), Ecol. Let.)\n",
    "- バルト海の4種のプランクトン（カイアシ類、ワムシ類、ナノ植物プランクトン、ピコ植物プランクトン）を実験室で観察したデータ\n",
    "- Benincaらによって各プランクトン間の相互作用に関する情報が事前に得られているので相互作用の推定の妥当性の評価に使える可能性がある\n",
    "    - カイアシ類はナノを好む\n",
    "    - ワムシ類はピコを主に食べる\n",
    "    - ナノとピコは競争関係にある\n",
    "    - カイアシ類は生活史の段階によって餌を変える可能性があるが、このデータには生活史の情報はないので不確実性がある"
   ]
  },
  {
   "cell_type": "code",
   "execution_count": 1,
   "metadata": {},
   "outputs": [
    {
     "data": {
      "text/plain": [
       "([0.0 1.00958 … 0.57053 1.00057; 3.35 1.1878 … 0.66797 1.18451; … ; 2653.2 0.0 … 0.56375 0.14834; 2656.55 0.0 … 0.59936 0.58063], AbstractString[\"Day number\" \"Calanoids\" … \"Nanophytoplankton\" \"Picophytoplankton\"])"
      ]
     },
     "metadata": {},
     "output_type": "display_data"
    }
   ],
   "source": [
    "using DelimitedFiles\n",
    "using Plots\n",
    "using StatsBase\n",
    "\n",
    "cd(\"$(homedir())/work/RDE\")\n",
    "include(\"../src/fitGPR.jl\")\n",
    "\n",
    "d_baltic = readdlm(\"./Beninca_2009/data/Beninca_2009.csv\", ',', header = true)\n",
    "\n",
    "# use data after April, 1991 to ensure stationarity\n",
    "ts_plankton = d_baltic[1][d_baltic[1][:, 1] .> 263, 2:end]\n",
    "\n",
    "ts_lib = ts_plankton[1:644, :]\n",
    "d_test = ts_plankton[644:end, :]\n",
    "\n",
    "# the data is not scaled since the original data is already scaled\n",
    "res_gpr = load_gpresults_jld2(\"./Beninca_2009/results/res_gpr.jld2\", npop = 4)"
   ]
  },
  {
   "cell_type": "markdown",
   "metadata": {},
   "source": [
    "### LOOCV"
   ]
  },
  {
   "cell_type": "code",
   "execution_count": null,
   "metadata": {},
   "outputs": [],
   "source": [
    "ts_plankton = d_baltic[1][d_baltic[1][:, 1] .> 263, 2:end]\n",
    "\n",
    "ts_lib = ts_plankton[1:644, :]\n",
    "d_test = ts_plankton[644:end, :]\n",
    "\n",
    "# the data is not scaled since the original data is already scaled\n",
    "res_gpr = load_gpresults_jld2(\"./Beninca_2009/results/res_gpr.jld2\", npop = 4)\n",
    "\n",
    "# in-sample correlation\n",
    "cor1 = round(cor(ts_lib[2:end, 1], res_gpr.loocv[1].mu_loo), digits = 2)\n",
    "cor2 = round(cor(ts_lib[2:end, 2], res_gpr.loocv[2].mu_loo), digits = 2)\n",
    "cor3 = round(cor(ts_lib[2:end, 3], res_gpr.loocv[3].mu_loo), digits = 2)\n",
    "cor4 = round(cor(ts_lib[2:end, 4], res_gpr.loocv[4].mu_loo), digits = 2)\n",
    "\n",
    "# plot in-sample prediction with LOOCV\n",
    "plt1 = plot(ts_lib[2:end, 1], title = \"$(d_baltic[2][2]) ρ = $cor1\", titlefontsize = 7, label = \"true\")\n",
    "plt1 = plot!(plt1, res_gpr.loocv[1].mu_loo, label = \"LOOCV\")\n",
    "\n",
    "plt2 = plot(ts_lib[2:end, 2], title = \"$(d_baltic[2][3]) ρ = $cor2\", titlefontsize = 7, label = \"true\")\n",
    "plt2 = plot!(plt2, res_gpr.loocv[2].mu_loo, label = \"LOOCV\")\n",
    "\n",
    "plt3 = plot(ts_lib[2:end, 3], label = \"true\")\n",
    "plt3 = plot!(plt3, res_gpr.loocv[3].mu_loo, title = \"$(d_baltic[2][4]) ρ = $cor3\", titlefontsize = 7, label = \"LOOCV\")\n",
    "\n",
    "plt4 = plot(ts_lib[2:end, 4], label = \"true\")\n",
    "plt4 = plot!(plt4, res_gpr.loocv[4].mu_loo, title = \"$(d_baltic[2][5]) ρ = $cor4\", titlefontsize = 7, label = \"LOOCV\")\n",
    "\n",
    "plot(plt1, plt2, plt3, plt4, layout=(2,2))"
   ]
  },
  {
   "cell_type": "markdown",
   "metadata": {},
   "source": [
    "### Inference of interaction strength"
   ]
  },
  {
   "cell_type": "code",
   "execution_count": null,
   "metadata": {},
   "outputs": [],
   "source": [
    "plot(res_gpr.jmat[1, 2, 1:end-1], title = \"Calanoids ◀ Rotifers\") #?\n",
    "plot(res_gpr.jmat[1, 3, 1:end-1], title = \"Calanoids ◀ Nano\") # preferred (consistent)\n",
    "plot(res_gpr.jmat[1, 4, 1:end-1], title = \"Calanoids ◀ Pico\") # (consistent)\n",
    "plot(res_gpr.jmat[2, 1, 1:end-1], title = \"Rotifers ◀ Calanoids\") # (consistent)\n",
    "plot(res_gpr.jmat[2, 3, 1:end-1], title = \"Rotifers ◀ Nano\") # (consistent)\n",
    "plot(res_gpr.jmat[2, 4, 1:end-1], title = \"Rotifers ◀ Pico\") # preferred (consistent)\n",
    "plot(res_gpr.jmat[3, 1, 1:end-1], title = \"Nano ◀ Calanoids\") # preferred (?)\n",
    "plot(res_gpr.jmat[3, 2, 1:end-1], title = \"Nano ◀ Rotifers\") # (?)\n",
    "plot(res_gpr.jmat[3, 4, 1:end-1], title = \"Nano ◀ Pico\") # strong competiton (consistent)\n",
    "plot(res_gpr.jmat[4, 1, 1:end-1], title = \"Pico ◀ Calanoids\") # (consistent)\n",
    "plot(res_gpr.jmat[4, 2, 1:end-1], title = \"Pico ◀ Rotifers\") #preferred (consistent)\n",
    "plot(res_gpr.jmat[4, 3, 1:end-1], title = \"Pico ◀ Nano\")# strong competiton (consistent)"
   ]
  }
 ],
 "metadata": {
  "kernelspec": {
   "display_name": "Julia 1.7.2",
   "language": "julia",
   "name": "julia-1.7"
  },
  "language_info": {
   "file_extension": ".jl",
   "mimetype": "application/julia",
   "name": "julia",
   "version": "1.7.2"
  },
  "orig_nbformat": 4
 },
 "nbformat": 4,
 "nbformat_minor": 2
}
