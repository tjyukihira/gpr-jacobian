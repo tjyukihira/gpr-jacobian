{
 "cells": [
  {
   "cell_type": "markdown",
   "metadata": {},
   "source": [
    "## Identifying core species in terms of their contributions to stability"
   ]
  },
  {
   "cell_type": "code",
   "execution_count": null,
   "metadata": {},
   "outputs": [],
   "source": [
    "cd(\"/home/taiju/work/RDE\")\n",
    "include(\"/home/taiju/work/RDE/src/RDEfunctions_linear.jl\")\n",
    "include(\"/home/taiju/work/RDE/test/load_data_fw10.jl\")"
   ]
  },
  {
   "cell_type": "markdown",
   "metadata": {},
   "source": [
    "### Data without noises"
   ]
  },
  {
   "cell_type": "code",
   "execution_count": null,
   "metadata": {},
   "outputs": [],
   "source": [
    "include(\"/home/taiju/work/RDE/test/load_res_fw10.jl\")"
   ]
  },
  {
   "cell_type": "code",
   "execution_count": null,
   "metadata": {},
   "outputs": [],
   "source": [
    "include(\"/home/taiju/work/RDE/test/scatter_jmat_fw10.jl\")"
   ]
  },
  {
   "cell_type": "markdown",
   "metadata": {},
   "source": [
    "#### Identification of core species at each point"
   ]
  },
  {
   "cell_type": "code",
   "execution_count": null,
   "metadata": {},
   "outputs": [],
   "source": [
    "include(\"/home/taiju/work/RDE/test/rank_stability_fw10.jl\")"
   ]
  },
  {
   "cell_type": "code",
   "execution_count": null,
   "metadata": {},
   "outputs": [],
   "source": [
    "violin(mean.(vec_accuracy_top_eigen_diff), mean.(vec_accuracy_top_trace_diff), label = permutedims([\"ΔRe(λ)\", \"ΔTr(J)\"]), title=\"mean accuracy of pointwise top species identification\", titlefontsize=7)\n",
    "hline!([0.1], label = \"chance level\")"
   ]
  },
  {
   "cell_type": "markdown",
   "metadata": {},
   "source": [
    "### Data with process noise"
   ]
  },
  {
   "cell_type": "code",
   "execution_count": null,
   "metadata": {},
   "outputs": [],
   "source": [
    "include(\"/home/taiju/work/RDE/test/load_res_fw10.jl\")"
   ]
  },
  {
   "cell_type": "code",
   "execution_count": null,
   "metadata": {},
   "outputs": [],
   "source": [
    "include(\"/home/taiju/work/RDE/test/scatter_jmat_fw10.jl\")"
   ]
  },
  {
   "cell_type": "markdown",
   "metadata": {},
   "source": [
    "#### Identification of core species at each point"
   ]
  },
  {
   "cell_type": "code",
   "execution_count": null,
   "metadata": {},
   "outputs": [],
   "source": [
    "include(\"/home/taiju/work/RDE/test/rank_stability_fw10.jl\")"
   ]
  },
  {
   "cell_type": "code",
   "execution_count": null,
   "metadata": {},
   "outputs": [],
   "source": [
    "violin(mean.(vec_accuracy_top_eigen_diff), mean.(vec_accuracy_top_trace_diff), label = permutedims([\"ΔRe(λ)\", \"ΔTr(J)\"]), title=\"mean accuracy of pointwise top species identification\", titlefontsize=7)\n",
    "hline!([0.1], label = \"chance level\")"
   ]
  },
  {
   "cell_type": "markdown",
   "metadata": {},
   "source": [
    "### Data with process and observational noises"
   ]
  },
  {
   "cell_type": "code",
   "execution_count": null,
   "metadata": {},
   "outputs": [],
   "source": [
    "include(\"/home/taiju/work/RDE/test/load_res_fw10.jl\")"
   ]
  },
  {
   "cell_type": "code",
   "execution_count": null,
   "metadata": {},
   "outputs": [],
   "source": [
    "include(\"/home/taiju/work/RDE/test/scatter_jmat_fw10.jl\")"
   ]
  },
  {
   "cell_type": "markdown",
   "metadata": {},
   "source": [
    "#### Identification of core species at each point"
   ]
  },
  {
   "cell_type": "code",
   "execution_count": null,
   "metadata": {},
   "outputs": [],
   "source": [
    "include(\"/home/taiju/work/RDE/test/rank_stability_fw10.jl\")"
   ]
  },
  {
   "cell_type": "code",
   "execution_count": null,
   "metadata": {},
   "outputs": [],
   "source": [
    "violin(mean.(vec_accuracy_top_eigen_diff), mean.(vec_accuracy_top_trace_diff), label = permutedims([\"ΔRe(λ)\", \"ΔTr(J)\"]), title=\"mean accuracy of pointwise top species identification\", titlefontsize=7)\n",
    "hline!([0.1], label = \"chance level\")"
   ]
  }
 ],
 "metadata": {
  "kernelspec": {
   "display_name": "Julia 1.7.2",
   "language": "julia",
   "name": "julia-1.7"
  },
  "language_info": {
   "file_extension": ".jl",
   "mimetype": "application/julia",
   "name": "julia",
   "version": "1.7.2"
  },
  "orig_nbformat": 4
 },
 "nbformat": 4,
 "nbformat_minor": 2
}
